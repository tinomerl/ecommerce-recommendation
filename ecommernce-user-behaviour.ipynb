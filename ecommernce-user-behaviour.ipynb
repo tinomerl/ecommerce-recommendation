{
 "nbformat": 4,
 "nbformat_minor": 2,
 "metadata": {
  "language_info": {
   "name": "python",
   "codemirror_mode": {
    "name": "ipython",
    "version": 3
   },
   "version": "3.7.5-final"
  },
  "orig_nbformat": 2,
  "file_extension": ".py",
  "mimetype": "text/x-python",
  "name": "python",
  "npconvert_exporter": "python",
  "pygments_lexer": "ipython3",
  "version": 3,
  "kernelspec": {
   "name": "python37564bitvenvvenv040c9b7a2346479db7d5967906aaf6a0",
   "display_name": "Python 3.7.5 64-bit ('.venv': venv)"
  }
 },
 "cells": [
  {
   "cell_type": "markdown",
   "metadata": {},
   "source": [
    "# Vorhersage von Nutzerverhalten auf Basis von E-Commerce Daten\n",
    "\n",
    "## Aufgabenbeschreibung\n",
    "\n",
    "## Zielbeschreibung\n",
    "\n",
    "__Laden der benötigten Pakete__"
   ]
  },
  {
   "cell_type": "code",
   "execution_count": 1,
   "metadata": {},
   "outputs": [],
   "source": [
    "import pandas as pd\n",
    "import matplotlib\n",
    "import sklearn"
   ]
  },
  {
   "cell_type": "markdown",
   "metadata": {},
   "source": [
    "Laden der heruntergeladenen Datensets"
   ]
  },
  {
   "cell_type": "code",
   "execution_count": 2,
   "metadata": {},
   "outputs": [],
   "source": [
    "categoryTreeDf = pd.read_csv(\"./data/category_tree.csv\")\n",
    "eventsDf = pd.read_csv(\"./data/events.csv\")\n",
    "properties1Df = pd.read_csv(\"./data/item_properties_part1.csv\")\n",
    "properties2Df = pd.read_csv(\"./data/item_properties_part2.csv\")"
   ]
  },
  {
   "cell_type": "markdown",
   "metadata": {},
   "source": [
    "Exploratives Betrachten der Dataframes als ganzes. Columns und Heads.\n"
   ]
  },
  {
   "cell_type": "code",
   "execution_count": 4,
   "metadata": {},
   "outputs": [
    {
     "output_type": "stream",
     "name": "stdout",
     "text": "Index(['categoryid', 'parentid'], dtype='object')\n   categoryid  parentid\n0        1016     213.0\n1         809     169.0\n2         570       9.0\n3        1691     885.0\n4         536    1691.0\n\n\n\nIndex(['timestamp', 'visitorid', 'event', 'itemid', 'transactionid'], dtype='object')\n       timestamp  visitorid event  itemid  transactionid\n0  1433221332117     257597  view  355908            NaN\n1  1433224214164     992329  view  248676            NaN\n2  1433221999827     111016  view  318965            NaN\n3  1433221955914     483717  view  253185            NaN\n4  1433221337106     951259  view  367447            NaN\n\n\n\nIndex(['timestamp', 'itemid', 'property', 'value'], dtype='object')\n       timestamp  itemid    property                            value\n0  1435460400000  460429  categoryid                             1338\n1  1441508400000  206783         888          1116713 960601 n277.200\n2  1439089200000  395014         400  n552.000 639502 n720.000 424566\n3  1431226800000   59481         790                       n15360.000\n4  1431831600000  156781         917                           828513\n\n\n\nIndex(['timestamp', 'itemid', 'property', 'value'], dtype='object')\n       timestamp  itemid property            value\n0  1433041200000  183478      561           769062\n1  1439694000000  132256      976  n26.400 1135780\n2  1435460400000  420307      921  1149317 1257525\n3  1431831600000  403324      917          1204143\n4  1435460400000  230701      521           769062\n\n\n\n"
    }
   ],
   "source": [
    "for elem in [\n",
    "    categoryTreeDf,\n",
    "    eventsDf,\n",
    "    properties1Df,\n",
    "    properties2Df,\n",
    "    ]:\n",
    "\n",
    "    print(elem.columns)\n",
    "    print(elem.head())\n",
    "    print(\"\\n\\n\")"
   ]
  },
  {
   "cell_type": "code",
   "execution_count": null,
   "metadata": {},
   "outputs": [],
   "source": []
  }
 ]
}
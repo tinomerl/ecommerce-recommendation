{
 "cells": [
  {
   "cell_type": "markdown",
   "metadata": {},
   "source": [
    " # Predicting User behaviour based on e-commerce data\n",
    "*__Author:__ Tino Merl*\n",
    "\n",
    "__Table of Contents__\n",
    "\n",
    "* [Introduction and planned action](#intro)\n",
    "    * [CRISP-DM](#crisp)\n",
    "* [Business Understanding](#bus_und)\n",
    "* [Data Understanding](#dat_und)\n",
    "    * [Describing the files](#fil_descr)\n",
    "    * [Describing the columns](#col_descr)\n",
    "    * [Focus dataset](#fcs_data)\n",
    "    * [Plotting the data by groups](#plt_grps)\n",
    "* [Data Preparation](#dat_pre)\n",
    "* [Modeling](#model)\n",
    "* [Evaluation](#eval)\n",
    "\n",
    "## Introduction and planned action<a class=\"anchor\" id=\"intro\"></a>\n",
    "This is an assignment for the module applied programming in the summerterm of 2020 at the *FOM Hochschule für Oekonomie & Management* at the study center in cologne. Troughout this assignment i will work with a dataset which contains user data from an e-commerce system. The dataset can be found on kaggle named *Retailrocket recommender system dataset*.[[1](#kaggle_dataset)] The dataset contains four individual files. Since two of them (item_properties_part1 and item_properties_part2) exceed the maximum filesize allowed on github i am not able to upload them to this repository. The goal of this assignment is to predict user behaviour. This can be done in two ways. The Users can be clustered in a way to predict whether a user contains to a group that buys or not. It can also be done by using markov chains to calculate the probability of a user buying or not. This whole analysis will be done via the CRISP-DM Process. \n",
    "\n",
    "### CRISP-DM<a class=\"anchor\" id=\"crisp\"></a>\n",
    "CRISP-DM stands for __C__ross __I__ndustry __S__tandard __P__rocess for __D__ata __M__ining. It is a standardized process which describes the steps a machine learning analysis and model building should undertake. The steps are the following six.\n",
    "\n",
    "1. Business Understanding\n",
    "2. Data Understanding\n",
    "3. Data Preparation\n",
    "4. Modeling\n",
    "5. Evaluation\n",
    "6. Deployment\n",
    "\n",
    "They may be listed in a sequential manner, but there is a lot of back and forth between the steps. Especially between Business Understanding and Data Understanding, Business Understanding and Evaluation such as Data Preparation and modeling. Figure 1 illustrates the circular nature of the process.\n",
    "\n",
    "<div style=\"margin:auto;\">\n",
    "<img style=\"display:block; margin-left: auto; margin-right:auto;\" src=\"img/crisp-dm_diagramm.png\"/>\n",
    "<div style=\"width: 50%; margin:0 auto; text-align:center;\"><i><b>Figure 1:</b></i> CRISP-DM diagram by statistik-dresden.de[<a href=\"#crisp-dm_diagramm\">2</a>]</div>\n",
    "</div>\n",
    "\n",
    "Since this is an assignment the last step, the deployment, will be left out. We will therefore end the process with step number five: evaluation."
   ]
  },
  {
   "cell_type": "markdown",
   "metadata": {},
   "source": [
    "## Business Understanding<a class=\"anchor\" id=\"bus_und\"></a>\n",
    "\n",
    "The first step is the business understanding. In this step the concrete goals and requirements are set before the analysis begins. The concrete tasks will also be defined here.[[2](#crisp-dm_diagramm)]\n",
    "To describe it a more abstract way we want to find out whether or not a user will buy an item. This question is the main question of businesses all around the world. We have a very good datasets for this case. Clickstream data. A more precise description of the data can be found in the next chapter. We will now focus on the task of business understanding. To do so the abstract \"we wan't to know a user will perform a transaction\" will be broken down into several tasks. We will therefore now define the tasks for this analysis and explain them in a detailed way.\n",
    "\n",
    "For this assignment the concrete tasks will be the following.\n",
    "\n",
    "1. *Explorative analysis of the data in data understanding*\n",
    "2. *Cluster unusual user behaviour and filter them out*\n",
    "3. *How can we predict user behaviour?*\n",
    "\n",
    "Tasks may be target of changes and additions.\n",
    "\n",
    "The reasoning for these tasks is the following.\n",
    "\n",
    "__1. *Explorative analysis of the data in data understanding*__\n",
    "\n",
    "This is a really huge dataset. It contains more than 2 million rows. To even grasp what is in these files and what hidden gems may be in this dataset the data exploration must be thoroughly. Also one may argue that these part is clearly part of the data understanding chapter i wanted to make this explicit.\n",
    "\n",
    "__2. *Cluster unusual user behaviour and filter them out*__\n",
    "\n",
    "Filtering out the unusual user behaviour can go two ways. You could say these outliers and the unusual behaviour are exactly the users we want to take a closer look at. To catch these outliers and put them \"back on the right track\" may be the goal of some customer analysis. But for this task we wan't to filter them out. There are many users in the dataset who didn't buy anything or only had a very limited numbers of transactions. Therefore we have a lot of noise in the dataset. This noise could be prone to overfitting.\n",
    "\n",
    "__3. *How can we predict user behaviour?*__\n",
    "\n",
    "The most important question of an analysis for user behaviour is whether or not the behaviour can be predicted. This is also the whole goal of this assignment. To find out whether or not the behaviour, especially whether or not someone will buy something, can be predicted. For this case we will try to use different models and take a look at their prediction accuracy."
   ]
  },
  {
   "cell_type": "markdown",
   "metadata": {},
   "source": [
    "## Data Understanding<a class=\"anchor\" id=\"dat_und\"></a>\n",
    "\n",
    "As the next step is the data understanding we should usually try to understand the data by talking with stakeholders and data owners. This is then followed by an explorative analysis of the dataset, which also creates the foundation for the following chapter the data preparation. Since this dataset has a usability score of 8.8 kaggle and has also a lot of context describing the dataset i will cite the kaggle page.[[1](#kaggle_dataset)]\n",
    "\n",
    "### Describing the files<a class=\"anchor\" id=\"fil_descr\"></a>\n",
    "The kaggle description seems to be a little outdated since it only speaks of three files but there are four available to download. Therefore the citation is more indirect and may differ from the original description on kaggle. As alreay mentioned the dataset consists of the following four files.\n",
    "\n",
    "__events.csv__\n",
    "\n",
    "A file containing the user behaviour. E.g. if a user viewed an item or added it to their cart with the corresponding item and userId and their respective timestamp.[[1](#kaggle_dataset)]\n",
    "\n",
    "__item_properties_part1.csv and item_properties_part2.csv__\n",
    "\n",
    "Two files containing the item properties. This refers to the property and the value of the item as their respective itemid and a timestamp. These files contain weekly snapshots of the item properties. If the property or the value of an item differs between these weekly snapshots a new row for this item will be added to the files. Since they are mostly the same files they can and will be added to one object as a union. The tricky part of this dataset is how the columns `property` and `value` refer to each other. Every value in these two columns was hashed. Except for the entries `available` and `categoryid`. When the column `property` has the entry `available` the column `value` refers to the availability of the item. Containing 1 for available and 0 for not. However if `property` contains the entry `categoryid` `value` refers to the item's category referencing the *category_tree.csv* file. All other values were stemmed and hashed. However the numeric values are marked with an n.[[1](#kaggle_dataset)] The description of the Dataset is cited as followed: \n",
    "\n",
    "> All words in text values were normalized (stemming procedure: https://en.wikipedia.org/wiki/Stemming) and hashed, numbers were processed as above, e.g. text \"Hello world 2017!\" will become \"24214 44214 n2017.000\"[[1](#kaggle_dataset)]\n",
    "\n",
    "__category_tree.csv__\n",
    "\n",
    "This files specifies a categoryId and their respective parentId.[[1](#kaggle_dataset)]\n",
    "\n",
    "### Describing the columns<a class=\"anchor\" id=\"col_descr\"></a>\n",
    "\n",
    "\n",
    "The following descriptions are taken from the kaggle dataset.[[1](#kaggle_dataset)]\n",
    "\n",
    "__category_tree.csv__\n",
    "\n",
    "* categoryid `{int}` -- unique identifier of the category.\n",
    "* parentid `{int}` -- identifier of the parent category. It's empty, if parent doesn't exist.\n",
    "\n",
    "__events.csv__\n",
    "\n",
    "* timestamp `{int}` -- the time, when event is occurred, in milliseconds since 01-01-1970.\n",
    "* visitorid `{int}` -- unique identifier of the visitor\n",
    "* event `{string}` -- type of the event {“view”, “addtocart”, “transaction”}\n",
    "* itemid `{int}` -- unique identifier of the item\n",
    "* transactionid `{int}` -- unique identifier of the transaction (non empty only for transaction event type).\n",
    "\n",
    "__item_properties_part1.csv__\n",
    "\n",
    "* timestamp `{int}` -- snapshot creation time (Unix timestamp in milliseconds)\n",
    "* itemid `{int}` -- unique Id of the item\n",
    "* property `{str}` -- property of the Item. All of them had been hashed excluding \"categoryid\" and \"available\"\n",
    "* value `{str}` -- property value of the item\n",
    "\n",
    "__item_properties_part2.csv__\n",
    "\n",
    "* timestamp `{int}` -- snapshot creation time (Unix timestamp in milliseconds)\n",
    "* itemid `{int}` -- unique Id of the item\n",
    "* property `{str}` -- property of the Item. All of them had been hashed excluding \"categoryid\" and \"available\"\n",
    "* value `{str}` -- property value of the item"
   ]
  },
  {
   "cell_type": "markdown",
   "metadata": {},
   "source": [
    "### Focus dataset<a class=\"anchor\" id=\"fcs_data\"></a>\n",
    "\n",
    "After looking at the descriptions of the files and their respective columns it is now clear, that not all files may be relevant to our particular question. Only one file, to be precise the __events.csv__, holds the relevant information. The reasoning for this assumption is quite simple. We start with the item properties files. They are currently hashed and their column `value` contains a mixture of different values. They range from hashed text, hashed numbers, a combination of them and normal text. A change in value or pricing may lead to a user buying but since the values are all hashed it's very difficult to make a real difference in prices out in this huge set. Also to get a grasp about what is inside this dataset and whether or not it could be applied to the main question of this assignment is out of scope. Since we already banished the item properties to cancel any analysis on __category_tree.csv__ is logical. It doesn't hold any relation to the __events.csv__ and can only be used by utilizing the item properties. Therefore the now following quantitative analysis will focus solely on the __events.csv__ file. "
   ]
  },
  {
   "cell_type": "code",
   "execution_count": 1,
   "metadata": {},
   "outputs": [],
   "source": [
    "# Loading of the needed Packages\n",
    "import pandas as pd\n",
    "import matplotlib.pyplot as plt\n",
    "import numpy as np\n",
    "import seaborn as sns\n",
    "\n",
    "from sklearn.preprocessing import LabelEncoder\n",
    "from sklearn.linear_model import LogisticRegression\n",
    "from sklearn.model_selection import train_test_split\n",
    "from sklearn import metrics\n",
    "\n",
    "np.random.seed(28)"
   ]
  },
  {
   "cell_type": "markdown",
   "metadata": {},
   "source": [
    "As the first step of the quantitave analysis we will look at the dataframe with descriptive and explorative methods. I will describe what the findings are and why they will be added to the list of the data preparations. I will try to go into more detail so there is less to write on the part of data preparation. We therefore set a fixed random seed.\n"
   ]
  },
  {
   "cell_type": "code",
   "execution_count": 2,
   "metadata": {},
   "outputs": [
    {
     "data": {
      "text/html": [
       "<div>\n",
       "<style scoped>\n",
       "    .dataframe tbody tr th:only-of-type {\n",
       "        vertical-align: middle;\n",
       "    }\n",
       "\n",
       "    .dataframe tbody tr th {\n",
       "        vertical-align: top;\n",
       "    }\n",
       "\n",
       "    .dataframe thead th {\n",
       "        text-align: right;\n",
       "    }\n",
       "</style>\n",
       "<table border=\"1\" class=\"dataframe\">\n",
       "  <thead>\n",
       "    <tr style=\"text-align: right;\">\n",
       "      <th></th>\n",
       "      <th>timestamp</th>\n",
       "      <th>visitorid</th>\n",
       "      <th>event</th>\n",
       "      <th>itemid</th>\n",
       "      <th>transactionid</th>\n",
       "    </tr>\n",
       "  </thead>\n",
       "  <tbody>\n",
       "    <tr>\n",
       "      <th>629976</th>\n",
       "      <td>1438573436544</td>\n",
       "      <td>895853</td>\n",
       "      <td>view</td>\n",
       "      <td>432161</td>\n",
       "      <td>NaN</td>\n",
       "    </tr>\n",
       "    <tr>\n",
       "      <th>348678</th>\n",
       "      <td>1434570301279</td>\n",
       "      <td>229157</td>\n",
       "      <td>view</td>\n",
       "      <td>422669</td>\n",
       "      <td>NaN</td>\n",
       "    </tr>\n",
       "    <tr>\n",
       "      <th>937150</th>\n",
       "      <td>1439964270842</td>\n",
       "      <td>217570</td>\n",
       "      <td>view</td>\n",
       "      <td>368947</td>\n",
       "      <td>NaN</td>\n",
       "    </tr>\n",
       "    <tr>\n",
       "      <th>2316508</th>\n",
       "      <td>1436751804165</td>\n",
       "      <td>1015325</td>\n",
       "      <td>view</td>\n",
       "      <td>333515</td>\n",
       "      <td>NaN</td>\n",
       "    </tr>\n",
       "    <tr>\n",
       "      <th>2123125</th>\n",
       "      <td>1436004758561</td>\n",
       "      <td>770911</td>\n",
       "      <td>view</td>\n",
       "      <td>321219</td>\n",
       "      <td>NaN</td>\n",
       "    </tr>\n",
       "    <tr>\n",
       "      <th>2218502</th>\n",
       "      <td>1436402747169</td>\n",
       "      <td>689710</td>\n",
       "      <td>view</td>\n",
       "      <td>204494</td>\n",
       "      <td>NaN</td>\n",
       "    </tr>\n",
       "    <tr>\n",
       "      <th>1097762</th>\n",
       "      <td>1440778593222</td>\n",
       "      <td>749691</td>\n",
       "      <td>view</td>\n",
       "      <td>298883</td>\n",
       "      <td>NaN</td>\n",
       "    </tr>\n",
       "    <tr>\n",
       "      <th>2275467</th>\n",
       "      <td>1436523377814</td>\n",
       "      <td>965534</td>\n",
       "      <td>view</td>\n",
       "      <td>227279</td>\n",
       "      <td>NaN</td>\n",
       "    </tr>\n",
       "    <tr>\n",
       "      <th>1835554</th>\n",
       "      <td>1432131850263</td>\n",
       "      <td>625059</td>\n",
       "      <td>view</td>\n",
       "      <td>343947</td>\n",
       "      <td>NaN</td>\n",
       "    </tr>\n",
       "    <tr>\n",
       "      <th>172391</th>\n",
       "      <td>1433905443612</td>\n",
       "      <td>672582</td>\n",
       "      <td>view</td>\n",
       "      <td>53707</td>\n",
       "      <td>NaN</td>\n",
       "    </tr>\n",
       "  </tbody>\n",
       "</table>\n",
       "</div>"
      ],
      "text/plain": [
       "             timestamp  visitorid event  itemid  transactionid\n",
       "629976   1438573436544     895853  view  432161            NaN\n",
       "348678   1434570301279     229157  view  422669            NaN\n",
       "937150   1439964270842     217570  view  368947            NaN\n",
       "2316508  1436751804165    1015325  view  333515            NaN\n",
       "2123125  1436004758561     770911  view  321219            NaN\n",
       "2218502  1436402747169     689710  view  204494            NaN\n",
       "1097762  1440778593222     749691  view  298883            NaN\n",
       "2275467  1436523377814     965534  view  227279            NaN\n",
       "1835554  1432131850263     625059  view  343947            NaN\n",
       "172391   1433905443612     672582  view   53707            NaN"
      ]
     },
     "execution_count": 2,
     "metadata": {},
     "output_type": "execute_result"
    }
   ],
   "source": [
    "# Loading dataset\n",
    "\n",
    "eventsDf = pd.read_csv(\"./data/events.csv\")\n",
    "eventsDf.sample(10)"
   ]
  },
  {
   "cell_type": "markdown",
   "metadata": {},
   "source": [
    "By looking at our sample there are two initial findings. The first one was clear from the description of the files and their columns. `timestamp` is a unix timestamp and should be casted to a datetime object for better interpretability. It will be added to the list of data preparations. Finding number two is that transactionid seems to be casted as a float object. This is a normal behaviour since the majority of the column looks to be empty and whenever a column contains NaN values and numerics it will be casted as float. Just to make sure this assumption is right i will look at the datatypes of `eventsDf`."
   ]
  },
  {
   "cell_type": "code",
   "execution_count": 3,
   "metadata": {},
   "outputs": [
    {
     "data": {
      "text/plain": [
       "timestamp          int64\n",
       "visitorid          int64\n",
       "event             object\n",
       "itemid             int64\n",
       "transactionid    float64\n",
       "dtype: object"
      ]
     },
     "execution_count": 3,
     "metadata": {},
     "output_type": "execute_result"
    }
   ],
   "source": [
    "eventsDf.dtypes"
   ]
  },
  {
   "cell_type": "markdown",
   "metadata": {},
   "source": [
    "This reassures the assumption made above. Now we will use pandas built-in describe method to analyze the quantitative metrics for this dataset."
   ]
  },
  {
   "cell_type": "code",
   "execution_count": 4,
   "metadata": {},
   "outputs": [
    {
     "data": {
      "text/html": [
       "<div>\n",
       "<style scoped>\n",
       "    .dataframe tbody tr th:only-of-type {\n",
       "        vertical-align: middle;\n",
       "    }\n",
       "\n",
       "    .dataframe tbody tr th {\n",
       "        vertical-align: top;\n",
       "    }\n",
       "\n",
       "    .dataframe thead th {\n",
       "        text-align: right;\n",
       "    }\n",
       "</style>\n",
       "<table border=\"1\" class=\"dataframe\">\n",
       "  <thead>\n",
       "    <tr style=\"text-align: right;\">\n",
       "      <th></th>\n",
       "      <th>timestamp</th>\n",
       "      <th>visitorid</th>\n",
       "      <th>event</th>\n",
       "      <th>itemid</th>\n",
       "      <th>transactionid</th>\n",
       "    </tr>\n",
       "  </thead>\n",
       "  <tbody>\n",
       "    <tr>\n",
       "      <th>count</th>\n",
       "      <td>2.756101e+06</td>\n",
       "      <td>2.756101e+06</td>\n",
       "      <td>2756101</td>\n",
       "      <td>2.756101e+06</td>\n",
       "      <td>22457.000000</td>\n",
       "    </tr>\n",
       "    <tr>\n",
       "      <th>unique</th>\n",
       "      <td>NaN</td>\n",
       "      <td>NaN</td>\n",
       "      <td>3</td>\n",
       "      <td>NaN</td>\n",
       "      <td>NaN</td>\n",
       "    </tr>\n",
       "    <tr>\n",
       "      <th>top</th>\n",
       "      <td>NaN</td>\n",
       "      <td>NaN</td>\n",
       "      <td>view</td>\n",
       "      <td>NaN</td>\n",
       "      <td>NaN</td>\n",
       "    </tr>\n",
       "    <tr>\n",
       "      <th>freq</th>\n",
       "      <td>NaN</td>\n",
       "      <td>NaN</td>\n",
       "      <td>2664312</td>\n",
       "      <td>NaN</td>\n",
       "      <td>NaN</td>\n",
       "    </tr>\n",
       "    <tr>\n",
       "      <th>mean</th>\n",
       "      <td>1.436424e+12</td>\n",
       "      <td>7.019229e+05</td>\n",
       "      <td>NaN</td>\n",
       "      <td>2.349225e+05</td>\n",
       "      <td>8826.497796</td>\n",
       "    </tr>\n",
       "    <tr>\n",
       "      <th>std</th>\n",
       "      <td>3.366312e+09</td>\n",
       "      <td>4.056875e+05</td>\n",
       "      <td>NaN</td>\n",
       "      <td>1.341954e+05</td>\n",
       "      <td>5098.996290</td>\n",
       "    </tr>\n",
       "    <tr>\n",
       "      <th>min</th>\n",
       "      <td>1.430622e+12</td>\n",
       "      <td>0.000000e+00</td>\n",
       "      <td>NaN</td>\n",
       "      <td>3.000000e+00</td>\n",
       "      <td>0.000000</td>\n",
       "    </tr>\n",
       "    <tr>\n",
       "      <th>25%</th>\n",
       "      <td>1.433478e+12</td>\n",
       "      <td>3.505660e+05</td>\n",
       "      <td>NaN</td>\n",
       "      <td>1.181200e+05</td>\n",
       "      <td>4411.000000</td>\n",
       "    </tr>\n",
       "    <tr>\n",
       "      <th>50%</th>\n",
       "      <td>1.436453e+12</td>\n",
       "      <td>7.020600e+05</td>\n",
       "      <td>NaN</td>\n",
       "      <td>2.360670e+05</td>\n",
       "      <td>8813.000000</td>\n",
       "    </tr>\n",
       "    <tr>\n",
       "      <th>75%</th>\n",
       "      <td>1.439225e+12</td>\n",
       "      <td>1.053437e+06</td>\n",
       "      <td>NaN</td>\n",
       "      <td>3.507150e+05</td>\n",
       "      <td>13224.000000</td>\n",
       "    </tr>\n",
       "    <tr>\n",
       "      <th>max</th>\n",
       "      <td>1.442545e+12</td>\n",
       "      <td>1.407579e+06</td>\n",
       "      <td>NaN</td>\n",
       "      <td>4.668670e+05</td>\n",
       "      <td>17671.000000</td>\n",
       "    </tr>\n",
       "  </tbody>\n",
       "</table>\n",
       "</div>"
      ],
      "text/plain": [
       "           timestamp     visitorid    event        itemid  transactionid\n",
       "count   2.756101e+06  2.756101e+06  2756101  2.756101e+06   22457.000000\n",
       "unique           NaN           NaN        3           NaN            NaN\n",
       "top              NaN           NaN     view           NaN            NaN\n",
       "freq             NaN           NaN  2664312           NaN            NaN\n",
       "mean    1.436424e+12  7.019229e+05      NaN  2.349225e+05    8826.497796\n",
       "std     3.366312e+09  4.056875e+05      NaN  1.341954e+05    5098.996290\n",
       "min     1.430622e+12  0.000000e+00      NaN  3.000000e+00       0.000000\n",
       "25%     1.433478e+12  3.505660e+05      NaN  1.181200e+05    4411.000000\n",
       "50%     1.436453e+12  7.020600e+05      NaN  2.360670e+05    8813.000000\n",
       "75%     1.439225e+12  1.053437e+06      NaN  3.507150e+05   13224.000000\n",
       "max     1.442545e+12  1.407579e+06      NaN  4.668670e+05   17671.000000"
      ]
     },
     "execution_count": 4,
     "metadata": {},
     "output_type": "execute_result"
    }
   ],
   "source": [
    "eventsDf.describe(include=\"all\")"
   ]
  },
  {
   "cell_type": "markdown",
   "metadata": {},
   "source": [
    "Except for the already mentioned empty columns  in `transactionid` there seems to be nothing out of ordinary. None of the other columns has any indications that any cell may be empty since their counts are all on the same level. Since the `timestamp` is still in unix format and `visitorid` as `itemid` are id columns it is hard to make any assumptions based on descriptive statistics. Nevertheless it is noteworthy that the most common entry in the column `event` is view with 2664312 occurences. Since there are only two other unique values that means there are only 91789 left for the other two levels of `event`. This is noteworthy because we have a massive overrepresantation of the top value while the other two values \"addtocart\" and \"transaction\", which are the ones targeted respectively those of interest. For now we will only plot the frequency in the data. Later on the data will be plotted with the first groupings."
   ]
  },
  {
   "cell_type": "code",
   "execution_count": 6,
   "metadata": {},
   "outputs": [
    {
     "data": {
      "image/png": "[encoded data removed]",
      "text/plain": [
       "<Figure size 1440x1080 with 4 Axes>"
      ]
     },
     "metadata": {
      "needs_background": "light"
     },
     "output_type": "display_data"
    }
   ],
   "source": [
    "fig, ax = plt.subplots(ncols=4, nrows=1, figsize=(20, 15))\n",
    "\n",
    "ax[0].hist(eventsDf[\"event\"])\n",
    "ax[0].set_title(\"event\")\n",
    "ax[1].hist(eventsDf[\"transactionid\"].fillna(0))\n",
    "ax[1].set_title(\"transactions with NaNs filled\")\n",
    "ax[2].hist(eventsDf[\"transactionid\"].dropna())\n",
    "ax[2].set_title(\"transactions NaNs dropped\")\n",
    "ax[3].hist(eventsDf[\"itemid\"].dropna())\n",
    "ax[3].set_title(\"items\")\n",
    "\n",
    "plt.draw()"
   ]
  },
  {
   "cell_type": "markdown",
   "metadata": {},
   "source": [
    "This further concludes the assumption that most of the users don't have any transactions. To find out how many users actually bought something or not we will save them in a new variable called `buyingUsers`. The percentage of buying users will then be calculated."
   ]
  },
  {
   "cell_type": "markdown",
   "metadata": {},
   "source": [
    "### Plotting the data by groups<a class=\"anchor\" id=\"plt_grps\"></a>\n",
    "For this we will part the data into two groups. Users who bought an item and those who don't. Therefore we will first filter out the userIds which made a transaction."
   ]
  },
  {
   "cell_type": "code",
   "execution_count": 22,
   "metadata": {},
   "outputs": [
    {
     "name": "stdout",
     "output_type": "stream",
     "text": [
      "Unique number of users who made a transaction: 11719\n",
      "Percentage of unique users who made a transaction: 0.00832563690873698\n"
     ]
    }
   ],
   "source": [
    "buyingUsers = pd.DataFrame(\n",
    "    eventsDf[eventsDf.event == \"transaction\"][\"visitorid\"]\n",
    "    .copy()\n",
    "    .drop_duplicates(keep=\"first\")\n",
    "    .reset_index(drop=True)\n",
    ")\n",
    "\n",
    "percBuying = buyingUsers.shape[0]/eventsDf[\"visitorid\"].unique().shape[0]\n",
    "\n",
    "print(f\"Unique number of users who made a transaction: {buyingUsers.shape[0]}\")\n",
    "print(f\"Percentage of unique users who made a transaction: {percBuying}\")"
   ]
  },
  {
   "cell_type": "markdown",
   "metadata": {},
   "source": [
    "The number of visitors who made a transaction and bought something is 11719. This number alone doesn't say alot. But compared to the number of all visitors we will get a better outlook of how many users made a transaction.\n",
    "\n",
    "Only 8.33% of the visitors made an actual transaction. That is a small number we have to lay our focus on to identify potential buyers. But now we will further process the `eventsDf` for analysis."
   ]
  },
  {
   "cell_type": "code",
   "execution_count": 10,
   "metadata": {},
   "outputs": [
    {
     "data": {
      "text/html": [
       "<div>\n",
       "<style scoped>\n",
       "    .dataframe tbody tr th:only-of-type {\n",
       "        vertical-align: middle;\n",
       "    }\n",
       "\n",
       "    .dataframe tbody tr th {\n",
       "        vertical-align: top;\n",
       "    }\n",
       "\n",
       "    .dataframe thead th {\n",
       "        text-align: right;\n",
       "    }\n",
       "</style>\n",
       "<table border=\"1\" class=\"dataframe\">\n",
       "  <thead>\n",
       "    <tr style=\"text-align: right;\">\n",
       "      <th></th>\n",
       "      <th>visitorid</th>\n",
       "      <th>bought</th>\n",
       "      <th>items_view</th>\n",
       "      <th>items_addtocart</th>\n",
       "      <th>items_transaction</th>\n",
       "      <th>num_actions</th>\n",
       "    </tr>\n",
       "  </thead>\n",
       "  <tbody>\n",
       "    <tr>\n",
       "      <th>182011</th>\n",
       "      <td>182011</td>\n",
       "      <td>0</td>\n",
       "      <td>1.0</td>\n",
       "      <td>0.0</td>\n",
       "      <td>0.0</td>\n",
       "      <td>1</td>\n",
       "    </tr>\n",
       "    <tr>\n",
       "      <th>487966</th>\n",
       "      <td>487966</td>\n",
       "      <td>0</td>\n",
       "      <td>1.0</td>\n",
       "      <td>0.0</td>\n",
       "      <td>0.0</td>\n",
       "      <td>1</td>\n",
       "    </tr>\n",
       "    <tr>\n",
       "      <th>494017</th>\n",
       "      <td>494017</td>\n",
       "      <td>0</td>\n",
       "      <td>1.0</td>\n",
       "      <td>0.0</td>\n",
       "      <td>0.0</td>\n",
       "      <td>1</td>\n",
       "    </tr>\n",
       "    <tr>\n",
       "      <th>1236056</th>\n",
       "      <td>1236056</td>\n",
       "      <td>0</td>\n",
       "      <td>25.0</td>\n",
       "      <td>0.0</td>\n",
       "      <td>0.0</td>\n",
       "      <td>25</td>\n",
       "    </tr>\n",
       "    <tr>\n",
       "      <th>233500</th>\n",
       "      <td>233500</td>\n",
       "      <td>0</td>\n",
       "      <td>45.0</td>\n",
       "      <td>0.0</td>\n",
       "      <td>0.0</td>\n",
       "      <td>45</td>\n",
       "    </tr>\n",
       "    <tr>\n",
       "      <th>860191</th>\n",
       "      <td>860191</td>\n",
       "      <td>0</td>\n",
       "      <td>1.0</td>\n",
       "      <td>0.0</td>\n",
       "      <td>0.0</td>\n",
       "      <td>1</td>\n",
       "    </tr>\n",
       "    <tr>\n",
       "      <th>933950</th>\n",
       "      <td>933950</td>\n",
       "      <td>0</td>\n",
       "      <td>1.0</td>\n",
       "      <td>0.0</td>\n",
       "      <td>0.0</td>\n",
       "      <td>1</td>\n",
       "    </tr>\n",
       "    <tr>\n",
       "      <th>969470</th>\n",
       "      <td>969470</td>\n",
       "      <td>0</td>\n",
       "      <td>1.0</td>\n",
       "      <td>0.0</td>\n",
       "      <td>0.0</td>\n",
       "      <td>1</td>\n",
       "    </tr>\n",
       "    <tr>\n",
       "      <th>17420</th>\n",
       "      <td>17420</td>\n",
       "      <td>0</td>\n",
       "      <td>2.0</td>\n",
       "      <td>0.0</td>\n",
       "      <td>0.0</td>\n",
       "      <td>2</td>\n",
       "    </tr>\n",
       "    <tr>\n",
       "      <th>618452</th>\n",
       "      <td>618452</td>\n",
       "      <td>0</td>\n",
       "      <td>1.0</td>\n",
       "      <td>0.0</td>\n",
       "      <td>0.0</td>\n",
       "      <td>1</td>\n",
       "    </tr>\n",
       "  </tbody>\n",
       "</table>\n",
       "</div>"
      ],
      "text/plain": [
       "         visitorid  bought  items_view  items_addtocart  items_transaction  \\\n",
       "182011      182011       0         1.0              0.0                0.0   \n",
       "487966      487966       0         1.0              0.0                0.0   \n",
       "494017      494017       0         1.0              0.0                0.0   \n",
       "1236056    1236056       0        25.0              0.0                0.0   \n",
       "233500      233500       0        45.0              0.0                0.0   \n",
       "860191      860191       0         1.0              0.0                0.0   \n",
       "933950      933950       0         1.0              0.0                0.0   \n",
       "969470      969470       0         1.0              0.0                0.0   \n",
       "17420        17420       0         2.0              0.0                0.0   \n",
       "618452      618452       0         1.0              0.0                0.0   \n",
       "\n",
       "         num_actions  \n",
       "182011             1  \n",
       "487966             1  \n",
       "494017             1  \n",
       "1236056           25  \n",
       "233500            45  \n",
       "860191             1  \n",
       "933950             1  \n",
       "969470             1  \n",
       "17420              2  \n",
       "618452             1  "
      ]
     },
     "execution_count": 10,
     "metadata": {},
     "output_type": "execute_result"
    }
   ],
   "source": [
    "buyingUsers[\"bought\"] = 1\n",
    "\n",
    "procEventsDf = pd.merge(eventsDf, buyingUsers, on=\"visitorid\", how=\"left\")\n",
    "procEventsDf[\"bought\"].fillna(0, inplace=True)\n",
    "procEventsDf = pd.get_dummies(procEventsDf, columns=[\"event\"], prefix=\"items\")\n",
    "procEventsDf[\"num_actions\"] = 1\n",
    "procEventsDf = (\n",
    "    procEventsDf[\n",
    "        [\n",
    "            \"visitorid\",\n",
    "            \"bought\",\n",
    "            \"items_view\",\n",
    "            \"items_addtocart\",\n",
    "            \"items_transaction\",\n",
    "            \"num_actions\",\n",
    "        ]\n",
    "    ]\n",
    "    .groupby([\"visitorid\", \"bought\"], as_index=False)\n",
    "    .sum()\n",
    ")\n",
    "procEventsDf = procEventsDf.astype({\n",
    "    \"bought\": \"int64\"\n",
    "})\n",
    "procEventsDf.sample(10)"
   ]
  },
  {
   "cell_type": "markdown",
   "metadata": {},
   "source": [
    "What we now have is a dataframe with every visitorid, whether they bought or not, their number of items view, their number of items added to cart and their number of transactions. A problem is the time spent on site per visitor. But we can bypass this problem by first sorting the dataframe `eventsDf` by the column `visitorid` and then by `timestamp` in ascending order. The next Problem we will then have is the recurring users and their sessions. By just comparing the first and last time a user visited a site we will make false assumptions. A user with only two visits may have a very long overall time if we only compare the time of the first and last visit if they are two days away, when in reality he always left the site right away. But this problem can be solved by calculating sessions. We would need to iterate over every visit a specific visitor made and compare it to a certain threshhold e.g. 30 minutes. When the difference between two actions is greater than the defined treshhold a new session would be started. This would be computational expensive. Another thing that would happen is that users that only have one action per session would have zero session time. This however ist a problem we would have nevertheless we would calculate the time a user spends on the page"
   ]
  },
  {
   "cell_type": "code",
   "execution_count": 11,
   "metadata": {},
   "outputs": [
    {
     "data": {
      "text/plain": [
       "200028"
      ]
     },
     "execution_count": 11,
     "metadata": {},
     "output_type": "execute_result"
    }
   ],
   "source": [
    "len(procEventsDf[procEventsDf.num_actions >= 3])"
   ]
  },
  {
   "cell_type": "code",
   "execution_count": 12,
   "metadata": {},
   "outputs": [
    {
     "name": "stderr",
     "output_type": "stream",
     "text": [
      "/mnt/c/Users/tinom/OneDrive/Documents/repos/ecommerce-recommendation/.venv/lib/python3.7/site-packages/seaborn/distributions.py:283: UserWarning: Data must have variance to compute a kernel density estimate.\n",
      "  warnings.warn(msg, UserWarning)\n"
     ]
    },
    {
     "data": {
      "text/plain": [
       "<seaborn.axisgrid.PairGrid at 0x7fc7b4cd1410>"
      ]
     },
     "execution_count": 12,
     "metadata": {},
     "output_type": "execute_result"
    },
    {
     "data": {
      "image/png": "[encoded data removed]",
      "text/plain": [
       "<Figure size 583.25x540 with 12 Axes>"
      ]
     },
     "metadata": {
      "needs_background": "light"
     },
     "output_type": "display_data"
    }
   ],
   "source": [
    "subset = procEventsDf.sample(frac=1)\n",
    "\n",
    "sns.pairplot(\n",
    "    subset,\n",
    "    x_vars=[\"items_view\", \"items_transaction\", \"num_actions\"],\n",
    "    y_vars=[\"items_view\", \"items_transaction\", \"num_actions\"],\n",
    "    hue=\"bought\",\n",
    ")"
   ]
  },
  {
   "cell_type": "markdown",
   "metadata": {},
   "source": [
    "## Data Preparation\n",
    "\n",
    "1. Cast the column `timestamp` from UNIX timestampe to datetime object in every dataset.\n",
    "2. Cast `transactionid` in `eventsDf` to integer."
   ]
  },
  {
   "cell_type": "code",
   "execution_count": 13,
   "metadata": {},
   "outputs": [],
   "source": [
    "procEventsDf.drop(columns=[\"visitorid\", \"items_transaction\"], inplace=True)"
   ]
  },
  {
   "cell_type": "markdown",
   "metadata": {},
   "source": [
    "## Modeling"
   ]
  },
  {
   "cell_type": "code",
   "execution_count": 14,
   "metadata": {},
   "outputs": [],
   "source": [
    "procEventsDf.drop(columns=[\"items_addtocart\"], inplace=True)"
   ]
  },
  {
   "cell_type": "code",
   "execution_count": 15,
   "metadata": {},
   "outputs": [],
   "source": [
    "X = procEventsDf[procEventsDf[\"num_actions\"] >= 3].drop(columns=[\"bought\"])\n",
    "y = procEventsDf[procEventsDf[\"num_actions\"] >= 3][\"bought\"]\n",
    "\n",
    "X_train, X_test, y_train, y_test = train_test_split(\n",
    "    X, y, test_size=0.33, random_state=28\n",
    ")\n",
    "\n",
    "ln_mod = LogisticRegression().fit(X_train, y_train)"
   ]
  },
  {
   "cell_type": "code",
   "execution_count": 16,
   "metadata": {},
   "outputs": [
    {
     "data": {
      "text/plain": [
       "0.9501590668080594"
      ]
     },
     "execution_count": 16,
     "metadata": {},
     "output_type": "execute_result"
    }
   ],
   "source": [
    "y_pred = ln_mod.predict(X_test)\n",
    "\n",
    "metrics.accuracy_score(y_test, y_pred)"
   ]
  },
  {
   "cell_type": "markdown",
   "metadata": {},
   "source": [
    "## Footnotes\n",
    "[1]<a class=\"anchor\" id=\"kaggle_dataset\"></a> Retailrocket (2017) Retailrocket recommender system dataset, Version 4. Retrieved 2020-04-19 from https://www.kaggle.com/retailrocket/ecommerce-dataset\n",
    "\n",
    "[2]<a class=\"anchor\" id=\"crisp-dm_diagramm\"></a> Wolf Riepel (2012). CRISP-DM: Ein Standard-Prozess-Modell für Data Mining. Retrieved 2020-05-10 from https://statistik-dresden.de/archives/1128"
   ]
  }
 ],
 "metadata": {
  "file_extension": ".py",
  "kernelspec": {
   "display_name": "Python 3.7.5 64-bit ('.venv': venv)",
   "language": "python",
   "name": "python37564bitvenvvenv040c9b7a2346479db7d5967906aaf6a0"
  },
  "language_info": {
   "codemirror_mode": {
    "name": "ipython",
    "version": 3
   },
   "file_extension": ".py",
   "mimetype": "text/x-python",
   "name": "python",
   "nbconvert_exporter": "python",
   "pygments_lexer": "ipython3",
   "version": "3.7.5"
  },
  "mimetype": "text/x-python",
  "name": "python",
  "npconvert_exporter": "python",
  "pygments_lexer": "ipython3",
  "version": 3
 },
 "nbformat": 4,
 "nbformat_minor": 2
}
